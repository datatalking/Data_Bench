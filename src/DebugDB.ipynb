{
 "cells": [
  {
   "cell_type": "code",
   "execution_count": 3,
   "metadata": {
    "collapsed": true,
    "ExecuteTime": {
     "end_time": "2023-08-17T22:05:11.227184Z",
     "start_time": "2023-08-17T22:05:11.219415Z"
    }
   },
   "outputs": [],
   "source": [
    "# REFERENCE https://medium.com/analytics-vidhya/the-pandas-library-in-depth-part-1-c85dde2931d5"
   ]
  },
  {
   "cell_type": "code",
   "execution_count": 4,
   "outputs": [
    {
     "name": "stdout",
     "output_type": "stream",
     "text": [
      "Requirement already satisfied: SQLAlchemy in /Users/wadewilson/opt/anaconda3/envs/Data_Bench/lib/python3.8/site-packages (1.4.49)\r\n",
      "Requirement already satisfied: greenlet!=0.4.17 in /Users/wadewilson/opt/anaconda3/envs/Data_Bench/lib/python3.8/site-packages (from SQLAlchemy) (2.0.2)\r\n",
      "\u001B[31mERROR: Could not find a version that satisfies the requirement sqlite3 (from versions: none)\u001B[0m\u001B[31m\r\n",
      "\u001B[0m\u001B[31mERROR: No matching distribution found for sqlite3\u001B[0m\u001B[31m\r\n",
      "\u001B[0m\u001B[31mERROR: You must give at least one requirement to install (see \"pip help install\")\u001B[0m\u001B[31m\r\n",
      "\u001B[0mRequirement already satisfied: pandas in /Users/wadewilson/opt/anaconda3/envs/Data_Bench/lib/python3.8/site-packages (1.3.5)\r\n",
      "Requirement already satisfied: python-dateutil>=2.7.3 in /Users/wadewilson/opt/anaconda3/envs/Data_Bench/lib/python3.8/site-packages (from pandas) (2.8.2)\r\n",
      "Requirement already satisfied: pytz>=2017.3 in /Users/wadewilson/opt/anaconda3/envs/Data_Bench/lib/python3.8/site-packages (from pandas) (2023.3)\r\n",
      "Requirement already satisfied: numpy>=1.17.3 in /Users/wadewilson/opt/anaconda3/envs/Data_Bench/lib/python3.8/site-packages (from pandas) (1.23.5)\r\n",
      "Requirement already satisfied: six>=1.5 in /Users/wadewilson/opt/anaconda3/envs/Data_Bench/lib/python3.8/site-packages (from python-dateutil>=2.7.3->pandas) (1.16.0)\r\n"
     ]
    }
   ],
   "source": [
    "!pip3 install SQLAlchemy\n",
    "!pip3 install sqlite3\n",
    "!pip3 install\n",
    "!pip3 install pandas"
   ],
   "metadata": {
    "collapsed": false,
    "ExecuteTime": {
     "end_time": "2023-08-17T22:05:17.276776Z",
     "start_time": "2023-08-17T22:05:11.236127Z"
    }
   }
  },
  {
   "cell_type": "code",
   "execution_count": 5,
   "outputs": [
    {
     "data": {
      "text/plain": "                    app name  \\\n0  tablescraper-selected-row   \n1                 App Engine   \n2                 Learn more   \n3          Artifact Registry   \n4                 Learn more   \n\n                                             app url  \\\n0                     tablescraper-selected-row href   \n1            https://cloud.google.com/appengine/docs   \n2         https://cloud.google.com/appengine/pricing   \n3    https://cloud.google.com/artifact-registry/docs   \n4  https://cloud.google.com/artifact-registry/pri...   \n\n                                 quantify api access  \\\n0                        tablescraper-selected-row 2   \n1                                28 hours per day of   \n2  The Google Cloud Free Tier is available only f...   \n3                           0.5 GB storage per month   \n4                                                NaN   \n\n          granular API details  \n0  tablescraper-selected-row 4  \n1           9 hours per day of  \n2                          NaN  \n3                          NaN  \n4                          NaN  ",
      "text/html": "<div>\n<style scoped>\n    .dataframe tbody tr th:only-of-type {\n        vertical-align: middle;\n    }\n\n    .dataframe tbody tr th {\n        vertical-align: top;\n    }\n\n    .dataframe thead th {\n        text-align: right;\n    }\n</style>\n<table border=\"1\" class=\"dataframe\">\n  <thead>\n    <tr style=\"text-align: right;\">\n      <th></th>\n      <th>app name</th>\n      <th>app url</th>\n      <th>quantify api access</th>\n      <th>granular API details</th>\n    </tr>\n  </thead>\n  <tbody>\n    <tr>\n      <th>0</th>\n      <td>tablescraper-selected-row</td>\n      <td>tablescraper-selected-row href</td>\n      <td>tablescraper-selected-row 2</td>\n      <td>tablescraper-selected-row 4</td>\n    </tr>\n    <tr>\n      <th>1</th>\n      <td>App Engine</td>\n      <td>https://cloud.google.com/appengine/docs</td>\n      <td>28 hours per day of</td>\n      <td>9 hours per day of</td>\n    </tr>\n    <tr>\n      <th>2</th>\n      <td>Learn more</td>\n      <td>https://cloud.google.com/appengine/pricing</td>\n      <td>The Google Cloud Free Tier is available only f...</td>\n      <td>NaN</td>\n    </tr>\n    <tr>\n      <th>3</th>\n      <td>Artifact Registry</td>\n      <td>https://cloud.google.com/artifact-registry/docs</td>\n      <td>0.5 GB storage per month</td>\n      <td>NaN</td>\n    </tr>\n    <tr>\n      <th>4</th>\n      <td>Learn more</td>\n      <td>https://cloud.google.com/artifact-registry/pri...</td>\n      <td>NaN</td>\n      <td>NaN</td>\n    </tr>\n  </tbody>\n</table>\n</div>"
     },
     "execution_count": 5,
     "metadata": {},
     "output_type": "execute_result"
    }
   ],
   "source": [
    "#CockroachDB\n",
    "# a smart database that crushes bugs\n",
    "# a hammer to kill a coachroach\n",
    "\n",
    "import pandas as pd\n",
    "\n",
    "\n",
    "# webscraping https://www.pythonanywhere.com/forums/topic/31455/ findall etc.\n",
    "\t# index the machine name, os name, repo name, program name, bug related to HTML\n",
    "\t# remember solutions as same code doesn't generate bugs, reccomender system for debugging.\n",
    "\t# all data once gathered is anonomyzed\n",
    "\n",
    "\t# SQLite is free, access to my smart API fremium\n",
    "\t\t# $0, $2 month, $9.99 month,\n",
    "\t\t\t# locally cached, encrypted\n",
    "\t\t\t#\n",
    "\t\t\t\t#\n",
    "\t\t\t\t#\n",
    "\t\t# provides cost effective simple cloud storage for all\n",
    "\t\t# provides a smart database for students to practice\n",
    "\t\t\t# recurring market for revenue\n",
    "\t\t\t# recurring market for growth\n",
    "\t\t\t\t# think leetcode for sql\n",
    "\t\t\t\t\t# but its also learning what your issues are and adapts\n",
    "\t\t\t\t\t# learning engine start with sql\n",
    "\t\t\t\t\t# move to python, track errors\n",
    "\t\t\t\t\t# add bug tracking for coding\n",
    "\t\t\t\t\t# could sync with GitHub for issue handling, references\n",
    "\n",
    "\t\t# have a side menu, possibly lower right, with james chatbot\n",
    "\t\t\t# going to guess this is the xyz dataset?\n",
    "\t\t\t# what questions do you have\n",
    "\n",
    "filename = '../data/google_cloud_free_tier_limits.csv'\n",
    "data = pd.read_csv(filename)\n",
    "\n",
    "\n",
    "data.head() # this will tell us the top 5, give general idea, then EDA\n",
    "#program created by Shinde_umakant\n",
    "\n",
    "\n"
   ],
   "metadata": {
    "collapsed": false,
    "ExecuteTime": {
     "end_time": "2023-08-17T22:05:18.548085Z",
     "start_time": "2023-08-17T22:05:18.265723Z"
    }
   }
  },
  {
   "cell_type": "code",
   "execution_count": 3,
   "outputs": [
    {
     "ename": "NameError",
     "evalue": "name 'data' is not defined",
     "output_type": "error",
     "traceback": [
      "\u001B[0;31m---------------------------------------------------------------------------\u001B[0m",
      "\u001B[0;31mNameError\u001B[0m                                 Traceback (most recent call last)",
      "\u001B[0;32m/var/folders/v0/7gtj3bhx74z6w7kx78fhqlmm0000gn/T/ipykernel_2655/1326842556.py\u001B[0m in \u001B[0;36m<module>\u001B[0;34m\u001B[0m\n\u001B[1;32m     32\u001B[0m \u001B[0;34m\u001B[0m\u001B[0m\n\u001B[1;32m     33\u001B[0m \u001B[0;31m# Loop to add the records to the table\u001B[0m\u001B[0;34m\u001B[0m\u001B[0;34m\u001B[0m\u001B[0;34m\u001B[0m\u001B[0m\n\u001B[0;32m---> 34\u001B[0;31m \u001B[0;32mfor\u001B[0m \u001B[0mi\u001B[0m \u001B[0;32min\u001B[0m \u001B[0mrange\u001B[0m\u001B[0;34m(\u001B[0m\u001B[0mdata\u001B[0m\u001B[0;34m)\u001B[0m\u001B[0;34m:\u001B[0m\u001B[0;34m\u001B[0m\u001B[0;34m\u001B[0m\u001B[0m\n\u001B[0m\u001B[1;32m     35\u001B[0m     \u001B[0mfirst_name\u001B[0m \u001B[0;34m=\u001B[0m \u001B[0minput\u001B[0m\u001B[0;34m(\u001B[0m\u001B[0;34m\"Enter first name: \"\u001B[0m\u001B[0;34m)\u001B[0m\u001B[0;34m\u001B[0m\u001B[0;34m\u001B[0m\u001B[0m\n\u001B[1;32m     36\u001B[0m     \u001B[0mmiddle_name\u001B[0m \u001B[0;34m=\u001B[0m \u001B[0minput\u001B[0m\u001B[0;34m(\u001B[0m\u001B[0;34m\"Enter middle name: \"\u001B[0m\u001B[0;34m)\u001B[0m\u001B[0;34m\u001B[0m\u001B[0;34m\u001B[0m\u001B[0m\n",
      "\u001B[0;31mNameError\u001B[0m: name 'data' is not defined"
     ]
    }
   ],
   "source": [
    "import sqlite3\n",
    "import sqlalchemy as sqla\n",
    "import pandas as pd\n",
    "\n",
    "customers_sql = \"\"\"\n",
    "      CREATE TABLE IF NOT EXISTS customers (\n",
    "      id integer PRIMARY KEY,\n",
    "      first_name text NOT NULL,\n",
    "      last_name text NOT NULL)\"\"\"\n",
    "\n",
    "query = \"\"\"\n",
    "    CREATE TABLE IF NOT EXISTS Student_name_data (\n",
    "    id integer PRIMARY KEY,\n",
    "    First_name VARCHAR(20),\n",
    "    middle_name VARCHAR(20),\n",
    "    last_name VARCHAR\n",
    "    (20), Marks INTEGER);\"\"\"\n",
    "\n",
    "# Create a connection to the database\n",
    "con = sqlite3.connect('../data/mydata_wtih_records.sqlite')\n",
    "\n",
    "# Execute the query to create the table\n",
    "con.execute(query)\n",
    "\n",
    "# Commit the changes to the database\n",
    "con.commit()\n",
    "\n",
    "\n",
    "# TODO change dataa to a function that accepts input but uses doc string after \"Enter {doc_string}\"\n",
    "# Get user input for the number of records to be added\n",
    "dataa = int(input(\"Enter data size: \"))\n",
    "\n",
    "# TODO create a function that accepts args for each\n",
    "# TODO create index from fnames on user data\n",
    "# Loop to add the records to the table\n",
    "for i in range(data):\n",
    "    first_name = input(\"Enter first name: \")\n",
    "    middle_name = input(\"Enter middle name: \")\n",
    "    last_name = input(\"Enter last name: \")\n",
    "    Marks = input(\"Enter marks: \")\n",
    "    data = [(first_name, middle_name, last_name, Marks)]\n",
    "    tmt = \"INSERT INTO Student_name_data VALUES(?,?,?,?)\"\n",
    "    con.executemany(tmt, data)\n",
    "\n",
    "# Commit the changes to the database\n",
    "con.commit()\n",
    "\n",
    "# Query the database to get the records\n",
    "cursor = con.execute('select * from Student_name_data')\n",
    "rows = cursor.fetchall()\n",
    "\n",
    "# Create a pandas dataframe from the records\n",
    "df = pd.DataFrame(rows, columns=[x[0] for x in cursor.description])\n",
    "\n",
    "# Create a sqlalchemy engine to connect to the database\n",
    "db = sqla.create_engine('sqlite:///mydata_with_records.sqlite')\n",
    "\n",
    "# Read the records from the database into a pandas dataframe\n",
    "datas = pd.read_sql('select * from Student_name_data', db)\n",
    "\n",
    "# Print the data types of the columns\n",
    "print(datas.dtypes)\n",
    "\n",
    "# Write the dataframe to a csv file\n",
    "datas.to_csv(\"student_records.csv\")\n",
    "\n",
    "# Read the csv file into a pandas dataframe\n",
    "data2 = pd.read_csv(\"student_records.csv\")\n",
    "\n",
    "# Print the first 5 rows of the dataframe\n",
    "print(data2.head())\n"
   ],
   "metadata": {
    "collapsed": false,
    "ExecuteTime": {
     "start_time": "2023-08-17T22:05:18.555567Z"
    }
   }
  },
  {
   "cell_type": "markdown",
   "source": [
    "\n",
    "\n",
    "# resource https://www.joelonsoftware.com/2000/11/08/painless-bug-tracking/\n",
    "\n",
    "query = “””CREATE TABLE Student_name_data(First_name VARCHAR(20),middle_name VARCHAR(20), last_name VARCHAR(20),Marks INTEGER);”””\n",
    "\n",
    "#here i’m created one query in that created table\n",
    "con = sqlite3.connect(‘mydata_wtih_records.sqlite’)\n",
    "con.execute(query)\n",
    "con.commit()\n",
    "dataa=int(input(“Enter data size”))\n",
    "for i in range(dataa):\n",
    "frist_name=input(“Enter first name”)\n",
    "middle_name=input(“Enter middle name”)\n",
    "last_name=input(“Enter last name”)\n",
    "Marks=input(“Enter marks”)\n",
    "data = [(frist_name,middle_name,last_name,Marks)]\n",
    "tmt = “INSERT INTO Student_name_data VALUES(?,?,?,?)”\n",
    "con.executemany(tmt,data)\n",
    "con.commit()\n",
    "cursor = con.execute(‘select * from Student_name_data’)\n",
    "rows = cursor.fetchall()\n",
    "rows\n",
    "pd.DataFrame(rows, columns=[x[0] for x in cursor.description])\n",
    "db = sqla.create_engine(‘sqlite:///mydata_wtih_records.sqlite’)\n",
    "datas=pd.read_sql(‘select * from Student_name_data’, db)\n",
    "datas\n",
    "type(datas)\n",
    "datas.to_csv(“student_records.csv”)\n",
    "data2=pd.read_csv(“student_records.csv”)\n",
    "data2.head()\n"
   ],
   "metadata": {
    "collapsed": false
   }
  }
 ],
 "metadata": {
  "kernelspec": {
   "display_name": "Python 3",
   "language": "python",
   "name": "python3"
  },
  "language_info": {
   "codemirror_mode": {
    "name": "ipython",
    "version": 2
   },
   "file_extension": ".py",
   "mimetype": "text/x-python",
   "name": "python",
   "nbconvert_exporter": "python",
   "pygments_lexer": "ipython2",
   "version": "2.7.6"
  }
 },
 "nbformat": 4,
 "nbformat_minor": 0
}
