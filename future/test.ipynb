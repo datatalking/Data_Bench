{
 "cells": [
  {
   "cell_type": "code",
   "execution_count": 1,
   "metadata": {
    "collapsed": true,
    "pycharm": {
     "name": "#%%\n"
    },
    "ExecuteTime": {
     "end_time": "2023-07-21T00:04:54.486736Z",
     "start_time": "2023-07-21T00:04:54.322664Z"
    }
   },
   "outputs": [],
   "source": [
    "# SOURCE https://lazarinastoy.com/the-ultimate-guide-to-pytrends-google-trends-api-with-python/"
   ]
  },
  {
   "cell_type": "code",
   "execution_count": 2,
   "outputs": [
    {
     "name": "stdout",
     "output_type": "stream",
     "text": [
      "Requirement already satisfied: pytrends in /Users/wadewilson/opt/anaconda3/envs/Data_Bench/lib/python3.8/site-packages (4.9.2)\r\n",
      "Requirement already satisfied: pandas>=0.25 in /Users/wadewilson/opt/anaconda3/envs/Data_Bench/lib/python3.8/site-packages (from pytrends) (1.3.5)\r\n",
      "Requirement already satisfied: lxml in /Users/wadewilson/opt/anaconda3/envs/Data_Bench/lib/python3.8/site-packages (from pytrends) (4.9.2)\r\n",
      "Requirement already satisfied: requests>=2.0 in /Users/wadewilson/opt/anaconda3/envs/Data_Bench/lib/python3.8/site-packages (from pytrends) (2.28.2)\r\n",
      "Requirement already satisfied: python-dateutil>=2.7.3 in /Users/wadewilson/opt/anaconda3/envs/Data_Bench/lib/python3.8/site-packages (from pandas>=0.25->pytrends) (2.8.2)\r\n",
      "Requirement already satisfied: pytz>=2017.3 in /Users/wadewilson/opt/anaconda3/envs/Data_Bench/lib/python3.8/site-packages (from pandas>=0.25->pytrends) (2022.7.1)\r\n",
      "Requirement already satisfied: numpy>=1.17.3 in /Users/wadewilson/opt/anaconda3/envs/Data_Bench/lib/python3.8/site-packages (from pandas>=0.25->pytrends) (1.23.5)\r\n",
      "Requirement already satisfied: charset-normalizer<4,>=2 in /Users/wadewilson/opt/anaconda3/envs/Data_Bench/lib/python3.8/site-packages (from requests>=2.0->pytrends) (2.1.1)\r\n",
      "Requirement already satisfied: certifi>=2017.4.17 in /Users/wadewilson/opt/anaconda3/envs/Data_Bench/lib/python3.8/site-packages (from requests>=2.0->pytrends) (2023.5.7)\r\n",
      "Requirement already satisfied: urllib3<1.27,>=1.21.1 in /Users/wadewilson/opt/anaconda3/envs/Data_Bench/lib/python3.8/site-packages (from requests>=2.0->pytrends) (1.26.14)\r\n",
      "Requirement already satisfied: idna<4,>=2.5 in /Users/wadewilson/opt/anaconda3/envs/Data_Bench/lib/python3.8/site-packages (from requests>=2.0->pytrends) (3.4)\r\n",
      "Requirement already satisfied: six>=1.5 in /Users/wadewilson/opt/anaconda3/envs/Data_Bench/lib/python3.8/site-packages (from python-dateutil>=2.7.3->pandas>=0.25->pytrends) (1.16.0)\r\n"
     ]
    }
   ],
   "source": [
    "#install pytrends\n",
    "!pip install pytrends"
   ],
   "metadata": {
    "collapsed": false,
    "pycharm": {
     "name": "#%%\n"
    },
    "ExecuteTime": {
     "end_time": "2023-07-21T00:04:58.322314Z",
     "start_time": "2023-07-21T00:04:54.349886Z"
    }
   }
  },
  {
   "cell_type": "code",
   "execution_count": 3,
   "outputs": [],
   "source": [
    "#import the libraries\n",
    "import pandas as pd\n",
    "from pytrends.request import TrendReq\n",
    "\n",
    "# TODO print packages that would go into a requirements.txt if I did a pip3 right now"
   ],
   "metadata": {
    "collapsed": false,
    "pycharm": {
     "name": "#%%\n"
    },
    "ExecuteTime": {
     "end_time": "2023-07-21T00:05:02.594248Z",
     "start_time": "2023-07-21T00:04:58.322800Z"
    }
   }
  },
  {
   "cell_type": "code",
   "execution_count": 4,
   "outputs": [
    {
     "data": {
      "text/plain": "             mid     title                type\n0     /m/0hmyfsv      Meta  Technology company\n1  /g/11jjxgrvhk  Facebook               Topic\n2  /g/11j5fyz09v  Facebook             Website\n3  /g/11j5zwfv5v  Facebook               Topic\n4  /g/11rs8fgwn7       変な家      Book by Uketsu",
      "text/html": "<div>\n<style scoped>\n    .dataframe tbody tr th:only-of-type {\n        vertical-align: middle;\n    }\n\n    .dataframe tbody tr th {\n        vertical-align: top;\n    }\n\n    .dataframe thead th {\n        text-align: right;\n    }\n</style>\n<table border=\"1\" class=\"dataframe\">\n  <thead>\n    <tr style=\"text-align: right;\">\n      <th></th>\n      <th>mid</th>\n      <th>title</th>\n      <th>type</th>\n    </tr>\n  </thead>\n  <tbody>\n    <tr>\n      <th>0</th>\n      <td>/m/0hmyfsv</td>\n      <td>Meta</td>\n      <td>Technology company</td>\n    </tr>\n    <tr>\n      <th>1</th>\n      <td>/g/11jjxgrvhk</td>\n      <td>Facebook</td>\n      <td>Topic</td>\n    </tr>\n    <tr>\n      <th>2</th>\n      <td>/g/11j5fyz09v</td>\n      <td>Facebook</td>\n      <td>Website</td>\n    </tr>\n    <tr>\n      <th>3</th>\n      <td>/g/11j5zwfv5v</td>\n      <td>Facebook</td>\n      <td>Topic</td>\n    </tr>\n    <tr>\n      <th>4</th>\n      <td>/g/11rs8fgwn7</td>\n      <td>変な家</td>\n      <td>Book by Uketsu</td>\n    </tr>\n  </tbody>\n</table>\n</div>"
     },
     "execution_count": 4,
     "metadata": {},
     "output_type": "execute_result"
    }
   ],
   "source": [
    "\n",
    "pytrend = TrendReq()\n",
    "# Get Google Keyword Suggestions\n",
    "\n",
    "keywords = pytrend.suggestions(keyword='Facebook')\n",
    "df = pd.DataFrame(keywords)\n",
    "df\n"
   ],
   "metadata": {
    "collapsed": false,
    "pycharm": {
     "name": "#%%\n"
    },
    "ExecuteTime": {
     "end_time": "2023-07-21T00:05:04.220291Z",
     "start_time": "2023-07-21T00:05:02.596204Z"
    }
   }
  },
  {
   "cell_type": "code",
   "execution_count": 8,
   "outputs": [
    {
     "data": {
      "text/plain": "             mid                        title                 type\n0       /m/0157m                 Bill Clinton  42nd U.S. President\n1  /g/11fq9jzlfk                   William Li               Writer\n2      /m/04qs58  Impeachment of Bill Clinton                Topic\n3     /m/025st0_   Presidency of Bill Clinton                Topic\n4    /g/122v8myn         Bill Clinton Kalonji     Congolese singer",
      "text/html": "<div>\n<style scoped>\n    .dataframe tbody tr th:only-of-type {\n        vertical-align: middle;\n    }\n\n    .dataframe tbody tr th {\n        vertical-align: top;\n    }\n\n    .dataframe thead th {\n        text-align: right;\n    }\n</style>\n<table border=\"1\" class=\"dataframe\">\n  <thead>\n    <tr style=\"text-align: right;\">\n      <th></th>\n      <th>mid</th>\n      <th>title</th>\n      <th>type</th>\n    </tr>\n  </thead>\n  <tbody>\n    <tr>\n      <th>0</th>\n      <td>/m/0157m</td>\n      <td>Bill Clinton</td>\n      <td>42nd U.S. President</td>\n    </tr>\n    <tr>\n      <th>1</th>\n      <td>/g/11fq9jzlfk</td>\n      <td>William Li</td>\n      <td>Writer</td>\n    </tr>\n    <tr>\n      <th>2</th>\n      <td>/m/04qs58</td>\n      <td>Impeachment of Bill Clinton</td>\n      <td>Topic</td>\n    </tr>\n    <tr>\n      <th>3</th>\n      <td>/m/025st0_</td>\n      <td>Presidency of Bill Clinton</td>\n      <td>Topic</td>\n    </tr>\n    <tr>\n      <th>4</th>\n      <td>/g/122v8myn</td>\n      <td>Bill Clinton Kalonji</td>\n      <td>Congolese singer</td>\n    </tr>\n  </tbody>\n</table>\n</div>"
     },
     "execution_count": 8,
     "metadata": {},
     "output_type": "execute_result"
    }
   ],
   "source": [
    "keywords = pytrend.suggestions(keyword='Bill Clinton')\n",
    "df = pd.DataFrame(keywords)\n",
    "df"
   ],
   "metadata": {
    "collapsed": false,
    "pycharm": {
     "name": "#%%\n"
    },
    "ExecuteTime": {
     "end_time": "2023-07-21T00:05:28.319137Z",
     "start_time": "2023-07-21T00:05:27.685105Z"
    }
   }
  },
  {
   "cell_type": "code",
   "execution_count": 9,
   "outputs": [
    {
     "data": {
      "text/plain": "             mid                        title                 type\n0       /m/0157m                 Bill Clinton  42nd U.S. President\n1  /g/11fq9jzlfk                   William Li               Writer\n2      /m/04qs58  Impeachment of Bill Clinton                Topic\n3     /m/025st0_   Presidency of Bill Clinton                Topic\n4    /g/122v8myn         Bill Clinton Kalonji     Congolese singer",
      "text/html": "<div>\n<style scoped>\n    .dataframe tbody tr th:only-of-type {\n        vertical-align: middle;\n    }\n\n    .dataframe tbody tr th {\n        vertical-align: top;\n    }\n\n    .dataframe thead th {\n        text-align: right;\n    }\n</style>\n<table border=\"1\" class=\"dataframe\">\n  <thead>\n    <tr style=\"text-align: right;\">\n      <th></th>\n      <th>mid</th>\n      <th>title</th>\n      <th>type</th>\n    </tr>\n  </thead>\n  <tbody>\n    <tr>\n      <th>0</th>\n      <td>/m/0157m</td>\n      <td>Bill Clinton</td>\n      <td>42nd U.S. President</td>\n    </tr>\n    <tr>\n      <th>1</th>\n      <td>/g/11fq9jzlfk</td>\n      <td>William Li</td>\n      <td>Writer</td>\n    </tr>\n    <tr>\n      <th>2</th>\n      <td>/m/04qs58</td>\n      <td>Impeachment of Bill Clinton</td>\n      <td>Topic</td>\n    </tr>\n    <tr>\n      <th>3</th>\n      <td>/m/025st0_</td>\n      <td>Presidency of Bill Clinton</td>\n      <td>Topic</td>\n    </tr>\n    <tr>\n      <th>4</th>\n      <td>/g/122v8myn</td>\n      <td>Bill Clinton Kalonji</td>\n      <td>Congolese singer</td>\n    </tr>\n  </tbody>\n</table>\n</div>"
     },
     "execution_count": 9,
     "metadata": {},
     "output_type": "execute_result"
    }
   ],
   "source": [
    "df.head(5)"
   ],
   "metadata": {
    "collapsed": false,
    "pycharm": {
     "name": "#%%\n"
    },
    "ExecuteTime": {
     "end_time": "2023-07-21T00:06:17.372805Z",
     "start_time": "2023-07-21T00:06:17.367905Z"
    }
   }
  },
  {
   "cell_type": "code",
   "execution_count": 7,
   "outputs": [
    {
     "name": "stdout",
     "output_type": "stream",
     "text": [
      "Requirement already satisfied: pytrends in /Users/wadewilson/opt/anaconda3/envs/Data_Bench/lib/python3.8/site-packages (4.9.2)\r\n",
      "Requirement already satisfied: lxml in /Users/wadewilson/opt/anaconda3/envs/Data_Bench/lib/python3.8/site-packages (from pytrends) (4.9.2)\r\n",
      "Requirement already satisfied: pandas>=0.25 in /Users/wadewilson/opt/anaconda3/envs/Data_Bench/lib/python3.8/site-packages (from pytrends) (1.3.5)\r\n",
      "Requirement already satisfied: requests>=2.0 in /Users/wadewilson/opt/anaconda3/envs/Data_Bench/lib/python3.8/site-packages (from pytrends) (2.28.2)\r\n",
      "Requirement already satisfied: python-dateutil>=2.7.3 in /Users/wadewilson/opt/anaconda3/envs/Data_Bench/lib/python3.8/site-packages (from pandas>=0.25->pytrends) (2.8.2)\r\n",
      "Requirement already satisfied: pytz>=2017.3 in /Users/wadewilson/opt/anaconda3/envs/Data_Bench/lib/python3.8/site-packages (from pandas>=0.25->pytrends) (2022.7.1)\r\n",
      "Requirement already satisfied: numpy>=1.17.3 in /Users/wadewilson/opt/anaconda3/envs/Data_Bench/lib/python3.8/site-packages (from pandas>=0.25->pytrends) (1.23.5)\r\n",
      "Requirement already satisfied: charset-normalizer<4,>=2 in /Users/wadewilson/opt/anaconda3/envs/Data_Bench/lib/python3.8/site-packages (from requests>=2.0->pytrends) (2.1.1)\r\n",
      "Requirement already satisfied: idna<4,>=2.5 in /Users/wadewilson/opt/anaconda3/envs/Data_Bench/lib/python3.8/site-packages (from requests>=2.0->pytrends) (3.4)\r\n",
      "Requirement already satisfied: urllib3<1.27,>=1.21.1 in /Users/wadewilson/opt/anaconda3/envs/Data_Bench/lib/python3.8/site-packages (from requests>=2.0->pytrends) (1.26.14)\r\n",
      "Requirement already satisfied: certifi>=2017.4.17 in /Users/wadewilson/opt/anaconda3/envs/Data_Bench/lib/python3.8/site-packages (from requests>=2.0->pytrends) (2023.5.7)\r\n",
      "Requirement already satisfied: six>=1.5 in /Users/wadewilson/opt/anaconda3/envs/Data_Bench/lib/python3.8/site-packages (from python-dateutil>=2.7.3->pandas>=0.25->pytrends) (1.16.0)\r\n"
     ]
    },
    {
     "data": {
      "text/plain": "0     /trends/explore?q=Ethan+Slater&date=now+7-d&ge...\n1     /trends/explore?q=Kevin+Mitnick&date=now+7-d&g...\n2     /trends/explore?q=British+Open+2023&date=now+7...\n3         /trends/explore?q=G+Herbo&date=now+7-d&geo=US\n4     /trends/explore?q=Sweet+Magnolias&date=now+7-d...\n5     /trends/explore?q=Matthew+McConaughey&date=now...\n6     /trends/explore?q=Christo+Lamprecht&date=now+7...\n7     /trends/explore?q=Justin+Thomas&date=now+7-d&g...\n8     /trends/explore?q=Diablo+4+Season+1&date=now+7...\n9      /trends/explore?q=Mayans+M.C&date=now+7-d&geo=US\n10    /trends/explore?q=New+Zealand&date=now+7-d&geo=US\n11    /trends/explore?q=India+vs+West+Indies&date=no...\n12    /trends/explore?q=Rickie+Fowler&date=now+7-d&g...\n13      /trends/explore?q=Anti-Flag&date=now+7-d&geo=US\nName: exploreLink, dtype: object"
     },
     "execution_count": 7,
     "metadata": {},
     "output_type": "execute_result"
    }
   ],
   "source": [
    "#install pytrends\n",
    "!pip install pytrends\n",
    "#import the libraries\n",
    "import pandas as pd\n",
    "from pytrends.request import TrendReq\n",
    "\n",
    "pytrend = TrendReq()\n",
    "\n",
    "#get today's treniding topics\n",
    "trendingtoday = pytrend.today_searches(pn='US')\n",
    "trendingtoday.head(20)"
   ],
   "metadata": {
    "collapsed": false,
    "pycharm": {
     "name": "#%%\n"
    },
    "ExecuteTime": {
     "end_time": "2023-07-21T00:05:07.998876Z",
     "start_time": "2023-07-21T00:05:04.609947Z"
    }
   }
  }
 ],
 "metadata": {
  "kernelspec": {
   "display_name": "Python 3",
   "language": "python",
   "name": "python3"
  },
  "language_info": {
   "codemirror_mode": {
    "name": "ipython",
    "version": 2
   },
   "file_extension": ".py",
   "mimetype": "text/x-python",
   "name": "python",
   "nbconvert_exporter": "python",
   "pygments_lexer": "ipython2",
   "version": "2.7.6"
  }
 },
 "nbformat": 4,
 "nbformat_minor": 0
}
