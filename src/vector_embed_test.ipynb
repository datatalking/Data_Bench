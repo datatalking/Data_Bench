{
 "cells": [
  {
   "cell_type": "code",
   "execution_count": 1,
   "metadata": {
    "collapsed": true,
    "ExecuteTime": {
     "start_time": "2023-08-17T22:07:05.761386Z"
    }
   },
   "outputs": [],
   "source": [
    "# RESOURCE https://dzone.com/articles/what-are-vector-databases\n",
    "# tried to start but it became snowball"
   ]
  },
  {
   "cell_type": "code",
   "execution_count": 2,
   "outputs": [
    {
     "name": "stdout",
     "output_type": "stream",
     "text": [
      "Requirement already satisfied: torch in /Users/wadewilson/opt/anaconda3/envs/Data_Bench/lib/python3.8/site-packages (2.0.1)\r\n",
      "Requirement already satisfied: filelock in /Users/wadewilson/opt/anaconda3/envs/Data_Bench/lib/python3.8/site-packages (from torch) (3.12.4)\r\n",
      "Requirement already satisfied: typing-extensions in /Users/wadewilson/opt/anaconda3/envs/Data_Bench/lib/python3.8/site-packages (from torch) (4.7.1)\r\n",
      "Requirement already satisfied: sympy in /Users/wadewilson/opt/anaconda3/envs/Data_Bench/lib/python3.8/site-packages (from torch) (1.12)\r\n",
      "Requirement already satisfied: networkx in /Users/wadewilson/opt/anaconda3/envs/Data_Bench/lib/python3.8/site-packages (from torch) (3.1)\r\n",
      "Requirement already satisfied: jinja2 in /Users/wadewilson/opt/anaconda3/envs/Data_Bench/lib/python3.8/site-packages (from torch) (3.1.2)\r\n",
      "Requirement already satisfied: MarkupSafe>=2.0 in /Users/wadewilson/opt/anaconda3/envs/Data_Bench/lib/python3.8/site-packages (from jinja2->torch) (2.1.3)\r\n",
      "Requirement already satisfied: mpmath>=0.19 in /Users/wadewilson/opt/anaconda3/envs/Data_Bench/lib/python3.8/site-packages (from sympy->torch) (1.3.0)\r\n",
      "Requirement already satisfied: torchvision in /Users/wadewilson/opt/anaconda3/envs/Data_Bench/lib/python3.8/site-packages (0.15.2)\r\n",
      "Requirement already satisfied: numpy in /Users/wadewilson/opt/anaconda3/envs/Data_Bench/lib/python3.8/site-packages (from torchvision) (1.23.5)\r\n",
      "Requirement already satisfied: requests in /Users/wadewilson/opt/anaconda3/envs/Data_Bench/lib/python3.8/site-packages (from torchvision) (2.28.2)\r\n",
      "Requirement already satisfied: torch==2.0.1 in /Users/wadewilson/opt/anaconda3/envs/Data_Bench/lib/python3.8/site-packages (from torchvision) (2.0.1)\r\n",
      "Requirement already satisfied: pillow!=8.3.*,>=5.3.0 in /Users/wadewilson/opt/anaconda3/envs/Data_Bench/lib/python3.8/site-packages (from torchvision) (9.5.0)\r\n",
      "Requirement already satisfied: filelock in /Users/wadewilson/opt/anaconda3/envs/Data_Bench/lib/python3.8/site-packages (from torch==2.0.1->torchvision) (3.12.4)\r\n",
      "Requirement already satisfied: typing-extensions in /Users/wadewilson/opt/anaconda3/envs/Data_Bench/lib/python3.8/site-packages (from torch==2.0.1->torchvision) (4.7.1)\r\n",
      "Requirement already satisfied: sympy in /Users/wadewilson/opt/anaconda3/envs/Data_Bench/lib/python3.8/site-packages (from torch==2.0.1->torchvision) (1.12)\r\n",
      "Requirement already satisfied: networkx in /Users/wadewilson/opt/anaconda3/envs/Data_Bench/lib/python3.8/site-packages (from torch==2.0.1->torchvision) (3.1)\r\n",
      "Requirement already satisfied: jinja2 in /Users/wadewilson/opt/anaconda3/envs/Data_Bench/lib/python3.8/site-packages (from torch==2.0.1->torchvision) (3.1.2)\r\n",
      "Requirement already satisfied: charset-normalizer<4,>=2 in /Users/wadewilson/opt/anaconda3/envs/Data_Bench/lib/python3.8/site-packages (from requests->torchvision) (3.2.0)\r\n",
      "Requirement already satisfied: idna<4,>=2.5 in /Users/wadewilson/opt/anaconda3/envs/Data_Bench/lib/python3.8/site-packages (from requests->torchvision) (3.4)\r\n",
      "Requirement already satisfied: urllib3<1.27,>=1.21.1 in /Users/wadewilson/opt/anaconda3/envs/Data_Bench/lib/python3.8/site-packages (from requests->torchvision) (1.26.15)\r\n",
      "Requirement already satisfied: certifi>=2017.4.17 in /Users/wadewilson/opt/anaconda3/envs/Data_Bench/lib/python3.8/site-packages (from requests->torchvision) (2023.7.22)\r\n",
      "Requirement already satisfied: MarkupSafe>=2.0 in /Users/wadewilson/opt/anaconda3/envs/Data_Bench/lib/python3.8/site-packages (from jinja2->torch==2.0.1->torchvision) (2.1.3)\r\n",
      "Requirement already satisfied: mpmath>=0.19 in /Users/wadewilson/opt/anaconda3/envs/Data_Bench/lib/python3.8/site-packages (from sympy->torch==2.0.1->torchvision) (1.3.0)\r\n",
      "Requirement already satisfied: transformers in /Users/wadewilson/opt/anaconda3/envs/Data_Bench/lib/python3.8/site-packages (4.33.2)\r\n",
      "Requirement already satisfied: filelock in /Users/wadewilson/opt/anaconda3/envs/Data_Bench/lib/python3.8/site-packages (from transformers) (3.12.4)\r\n",
      "Requirement already satisfied: huggingface-hub<1.0,>=0.15.1 in /Users/wadewilson/opt/anaconda3/envs/Data_Bench/lib/python3.8/site-packages (from transformers) (0.17.2)\r\n",
      "Requirement already satisfied: numpy>=1.17 in /Users/wadewilson/opt/anaconda3/envs/Data_Bench/lib/python3.8/site-packages (from transformers) (1.23.5)\r\n",
      "Requirement already satisfied: packaging>=20.0 in /Users/wadewilson/opt/anaconda3/envs/Data_Bench/lib/python3.8/site-packages (from transformers) (23.1)\r\n",
      "Requirement already satisfied: pyyaml>=5.1 in /Users/wadewilson/opt/anaconda3/envs/Data_Bench/lib/python3.8/site-packages (from transformers) (6.0)\r\n",
      "Requirement already satisfied: regex!=2019.12.17 in /Users/wadewilson/opt/anaconda3/envs/Data_Bench/lib/python3.8/site-packages (from transformers) (2023.8.8)\r\n",
      "Requirement already satisfied: requests in /Users/wadewilson/opt/anaconda3/envs/Data_Bench/lib/python3.8/site-packages (from transformers) (2.28.2)\r\n",
      "Requirement already satisfied: tokenizers!=0.11.3,<0.14,>=0.11.1 in /Users/wadewilson/opt/anaconda3/envs/Data_Bench/lib/python3.8/site-packages (from transformers) (0.13.3)\r\n",
      "Requirement already satisfied: safetensors>=0.3.1 in /Users/wadewilson/opt/anaconda3/envs/Data_Bench/lib/python3.8/site-packages (from transformers) (0.3.3)\r\n",
      "Requirement already satisfied: tqdm>=4.27 in /Users/wadewilson/opt/anaconda3/envs/Data_Bench/lib/python3.8/site-packages (from transformers) (4.66.1)\r\n",
      "Requirement already satisfied: fsspec in /Users/wadewilson/opt/anaconda3/envs/Data_Bench/lib/python3.8/site-packages (from huggingface-hub<1.0,>=0.15.1->transformers) (2023.9.1)\r\n",
      "Requirement already satisfied: typing-extensions>=3.7.4.3 in /Users/wadewilson/opt/anaconda3/envs/Data_Bench/lib/python3.8/site-packages (from huggingface-hub<1.0,>=0.15.1->transformers) (4.7.1)\r\n",
      "Requirement already satisfied: charset-normalizer<4,>=2 in /Users/wadewilson/opt/anaconda3/envs/Data_Bench/lib/python3.8/site-packages (from requests->transformers) (3.2.0)\r\n",
      "Requirement already satisfied: idna<4,>=2.5 in /Users/wadewilson/opt/anaconda3/envs/Data_Bench/lib/python3.8/site-packages (from requests->transformers) (3.4)\r\n",
      "Requirement already satisfied: urllib3<1.27,>=1.21.1 in /Users/wadewilson/opt/anaconda3/envs/Data_Bench/lib/python3.8/site-packages (from requests->transformers) (1.26.15)\r\n",
      "Requirement already satisfied: certifi>=2017.4.17 in /Users/wadewilson/opt/anaconda3/envs/Data_Bench/lib/python3.8/site-packages (from requests->transformers) (2023.7.22)\r\n",
      "Requirement already satisfied: towhee in /Users/wadewilson/opt/anaconda3/envs/Data_Bench/lib/python3.8/site-packages (1.1.1)\r\n",
      "Requirement already satisfied: towhee.models in /Users/wadewilson/opt/anaconda3/envs/Data_Bench/lib/python3.8/site-packages (1.1.1)\r\n",
      "Requirement already satisfied: requests>=2.12.5 in /Users/wadewilson/opt/anaconda3/envs/Data_Bench/lib/python3.8/site-packages (from towhee) (2.28.2)\r\n",
      "Requirement already satisfied: tqdm>=4.59.0 in /Users/wadewilson/opt/anaconda3/envs/Data_Bench/lib/python3.8/site-packages (from towhee) (4.66.1)\r\n",
      "Requirement already satisfied: tabulate in /Users/wadewilson/opt/anaconda3/envs/Data_Bench/lib/python3.8/site-packages (from towhee) (0.9.0)\r\n",
      "Requirement already satisfied: numpy in /Users/wadewilson/opt/anaconda3/envs/Data_Bench/lib/python3.8/site-packages (from towhee) (1.23.5)\r\n",
      "Requirement already satisfied: twine in /Users/wadewilson/opt/anaconda3/envs/Data_Bench/lib/python3.8/site-packages (from towhee) (4.0.2)\r\n",
      "Requirement already satisfied: tenacity in /Users/wadewilson/opt/anaconda3/envs/Data_Bench/lib/python3.8/site-packages (from towhee) (8.2.3)\r\n",
      "Requirement already satisfied: pydantic<2 in /Users/wadewilson/opt/anaconda3/envs/Data_Bench/lib/python3.8/site-packages (from towhee) (1.10.12)\r\n",
      "Requirement already satisfied: typing-extensions>=4.2.0 in /Users/wadewilson/opt/anaconda3/envs/Data_Bench/lib/python3.8/site-packages (from pydantic<2->towhee) (4.7.1)\r\n",
      "Requirement already satisfied: charset-normalizer<4,>=2 in /Users/wadewilson/opt/anaconda3/envs/Data_Bench/lib/python3.8/site-packages (from requests>=2.12.5->towhee) (3.2.0)\r\n",
      "Requirement already satisfied: idna<4,>=2.5 in /Users/wadewilson/opt/anaconda3/envs/Data_Bench/lib/python3.8/site-packages (from requests>=2.12.5->towhee) (3.4)\r\n",
      "Requirement already satisfied: urllib3<1.27,>=1.21.1 in /Users/wadewilson/opt/anaconda3/envs/Data_Bench/lib/python3.8/site-packages (from requests>=2.12.5->towhee) (1.26.15)\r\n",
      "Requirement already satisfied: certifi>=2017.4.17 in /Users/wadewilson/opt/anaconda3/envs/Data_Bench/lib/python3.8/site-packages (from requests>=2.12.5->towhee) (2023.7.22)\r\n",
      "Requirement already satisfied: pkginfo>=1.8.1 in /Users/wadewilson/opt/anaconda3/envs/Data_Bench/lib/python3.8/site-packages (from twine->towhee) (1.9.6)\r\n",
      "Requirement already satisfied: readme-renderer>=35.0 in /Users/wadewilson/opt/anaconda3/envs/Data_Bench/lib/python3.8/site-packages (from twine->towhee) (40.0)\r\n",
      "Requirement already satisfied: requests-toolbelt!=0.9.0,>=0.8.0 in /Users/wadewilson/opt/anaconda3/envs/Data_Bench/lib/python3.8/site-packages (from twine->towhee) (1.0.0)\r\n",
      "Requirement already satisfied: importlib-metadata>=3.6 in /Users/wadewilson/opt/anaconda3/envs/Data_Bench/lib/python3.8/site-packages (from twine->towhee) (6.8.0)\r\n",
      "Requirement already satisfied: keyring>=15.1 in /Users/wadewilson/opt/anaconda3/envs/Data_Bench/lib/python3.8/site-packages (from twine->towhee) (24.2.0)\r\n",
      "Requirement already satisfied: rfc3986>=1.4.0 in /Users/wadewilson/opt/anaconda3/envs/Data_Bench/lib/python3.8/site-packages (from twine->towhee) (2.0.0)\r\n",
      "Requirement already satisfied: rich>=12.0.0 in /Users/wadewilson/opt/anaconda3/envs/Data_Bench/lib/python3.8/site-packages (from twine->towhee) (13.5.1)\r\n",
      "Requirement already satisfied: zipp>=0.5 in /Users/wadewilson/opt/anaconda3/envs/Data_Bench/lib/python3.8/site-packages (from importlib-metadata>=3.6->twine->towhee) (3.16.2)\r\n",
      "Requirement already satisfied: jaraco.classes in /Users/wadewilson/opt/anaconda3/envs/Data_Bench/lib/python3.8/site-packages (from keyring>=15.1->twine->towhee) (3.3.0)\r\n",
      "Requirement already satisfied: importlib-resources in /Users/wadewilson/opt/anaconda3/envs/Data_Bench/lib/python3.8/site-packages (from keyring>=15.1->twine->towhee) (6.0.1)\r\n",
      "Requirement already satisfied: bleach>=2.1.0 in /Users/wadewilson/opt/anaconda3/envs/Data_Bench/lib/python3.8/site-packages (from readme-renderer>=35.0->twine->towhee) (6.0.0)\r\n",
      "Requirement already satisfied: docutils>=0.13.1 in /Users/wadewilson/opt/anaconda3/envs/Data_Bench/lib/python3.8/site-packages (from readme-renderer>=35.0->twine->towhee) (0.20.1)\r\n",
      "Requirement already satisfied: Pygments>=2.5.1 in /Users/wadewilson/opt/anaconda3/envs/Data_Bench/lib/python3.8/site-packages (from readme-renderer>=35.0->twine->towhee) (2.16.1)\r\n",
      "Requirement already satisfied: markdown-it-py>=2.2.0 in /Users/wadewilson/opt/anaconda3/envs/Data_Bench/lib/python3.8/site-packages (from rich>=12.0.0->twine->towhee) (3.0.0)\r\n",
      "Requirement already satisfied: six>=1.9.0 in /Users/wadewilson/opt/anaconda3/envs/Data_Bench/lib/python3.8/site-packages (from bleach>=2.1.0->readme-renderer>=35.0->twine->towhee) (1.16.0)\r\n",
      "Requirement already satisfied: webencodings in /Users/wadewilson/opt/anaconda3/envs/Data_Bench/lib/python3.8/site-packages (from bleach>=2.1.0->readme-renderer>=35.0->twine->towhee) (0.5.1)\r\n",
      "Requirement already satisfied: mdurl~=0.1 in /Users/wadewilson/opt/anaconda3/envs/Data_Bench/lib/python3.8/site-packages (from markdown-it-py>=2.2.0->rich>=12.0.0->twine->towhee) (0.1.0)\r\n",
      "Requirement already satisfied: more-itertools in /Users/wadewilson/opt/anaconda3/envs/Data_Bench/lib/python3.8/site-packages (from jaraco.classes->keyring>=15.1->twine->towhee) (10.1.0)\r\n"
     ]
    }
   ],
   "source": [
    "!pip3 install torch # create image embeddings and build index\n",
    "!pip3 install torchvision\n",
    "!pip3 install transformers\n",
    "!pip3 install towhee towhee.models"
   ],
   "metadata": {
    "collapsed": false
   }
  },
  {
   "cell_type": "code",
   "execution_count": null,
   "outputs": [],
   "source": [
    "import torch # create image embeddings and build index\n",
    "import towhee"
   ],
   "metadata": {
    "collapsed": false,
    "pycharm": {
     "is_executing": true
    }
   }
  },
  {
   "cell_type": "code",
   "execution_count": null,
   "outputs": [],
   "source": [
    "p = (\n",
    "    pipe.input('file_name')\n",
    "    .map('file_name', 'img', ops.image_decode.cv2())\n",
    "    .map('img', 'vec', ops.image_text_embedding.clip(model_name='clip_vit_base_patch32', modality='image'))\n",
    "    .map('vec', 'vec', ops.towhee.np_normalize())\n",
    "    .map(('vec', 'file_name'), (), ops.ann_insert.faiss_index('./faiss', 512))\n",
    "    .output()\n",
    ")\n",
    "\n",
    "for f_name in ['https://raw.githubusercontent.com/towhee-io/towhee/main/assets/dog1.png',\n",
    "               'https://raw.githubusercontent.com/towhee-io/towhee/main/assets/dog2.png',\n",
    "               'https://raw.githubusercontent.com/towhee-io/towhee/main/assets/dog3.png']:\n",
    "    p(f_name)\n",
    "\n",
    "# Delete the pipeline object, make sure the faiss data is written to disk.\n",
    "del p\n",
    "\n",
    "# search image by text\n",
    "decode = ops.image_decode.cv2('rgb')\n",
    "p = (\n",
    "    pipe.input('text')\n",
    "    .map('text', 'vec', ops.image_text_embedding.clip(model_name='clip_vit_base_patch32', modality='text'))\n",
    "    .map('vec', 'vec', ops.towhee.np_normalize())\n",
    "    # faiss op result format:  [[id, score, [file_name], ...]\n",
    "    .map('vec', 'row', ops.ann_search.faiss_index('./faiss', 3))\n",
    "    .map('row', 'images', lambda x: [decode(item[2][0]) for item in x])\n",
    "    .output('text', 'images')\n",
    ")\n",
    "\n",
    "DataCollection(p('a cat')).show() # create image embeddings and build index\n",
    "p = (\n",
    "    pipe.input('file_name')\n",
    "    .map('file_name', 'img', ops.image_decode.cv2())\n",
    "    .map('img', 'vec', ops.image_text_embedding.clip(model_name='clip_vit_base_patch32', modality='image'))\n",
    "    .map('vec', 'vec', ops.towhee.np_normalize())\n",
    "    .map(('vec', 'file_name'), (), ops.ann_insert.faiss_index('./faiss', 512))\n",
    "    .output()\n",
    ")\n",
    "\n",
    "for f_name in ['https://raw.githubusercontent.com/towhee-io/towhee/main/assets/dog1.png',\n",
    "               'https://raw.githubusercontent.com/towhee-io/towhee/main/assets/dog2.png',\n",
    "               'https://raw.githubusercontent.com/towhee-io/towhee/main/assets/dog3.png']:\n",
    "    p(f_name)\n",
    "\n",
    "# Delete the pipeline object, make sure the faiss data is written to disk.\n",
    "del p\n",
    "\n",
    "# search image by text\n",
    "decode = ops.image_decode.cv2('rgb')\n",
    "p = (\n",
    "    pipe.input('text')\n",
    "    .map('text', 'vec', ops.image_text_embedding.clip(model_name='clip_vit_base_patch32', modality='text'))\n",
    "    .map('vec', 'vec', ops.towhee.np_normalize())\n",
    "    # faiss op result format:  [[id, score, [file_name], ...]\n",
    "    .map('vec', 'row', ops.ann_search.faiss_index('./faiss', 3))\n",
    "    .map('row', 'images', lambda x: [decode(item[2][0]) for item in x])\n",
    "    .output('text', 'images')\n",
    ")\n",
    "\n",
    "DataCollection(p('a cat')).show()"
   ],
   "metadata": {
    "collapsed": false,
    "ExecuteTime": {
     "end_time": "2023-08-17T22:07:05.766455Z",
     "start_time": "2023-08-17T22:07:05.766086Z"
    },
    "pycharm": {
     "is_executing": true
    }
   }
  },
  {
   "cell_type": "code",
   "execution_count": null,
   "outputs": [],
   "source": [
    "from glob import glob\n",
    "from towhee import ops, pipe, DataCollection"
   ],
   "metadata": {
    "collapsed": false,
    "ExecuteTime": {
     "start_time": "2023-08-17T22:07:05.771449Z"
    },
    "pycharm": {
     "is_executing": true
    }
   }
  },
  {
   "cell_type": "code",
   "execution_count": null,
   "outputs": [],
   "source": [
    "# create image embeddings and build index\n",
    "p = (\n",
    "    pipe.input('file_name')\n",
    "    .map('file_name', 'img', ops.image_decode.cv2())\n",
    "    .map('img', 'vec', ops.image_text_embedding.clip(model_name='clip_vit_base_patch32', modality='image'))\n",
    "    .map('vec', 'vec', ops.towhee.np_normalize())\n",
    "    .map(('vec', 'file_name'), (), ops.ann_insert.faiss_index('./faiss', 512))\n",
    "    .output()\n",
    ")\n",
    "\n",
    "for f_name in ['https://raw.githubusercontent.com/towhee-io/towhee/main/assets/dog1.png',\n",
    "               'https://raw.githubusercontent.com/towhee-io/towhee/main/assets/dog2.png',\n",
    "               'https://raw.githubusercontent.com/towhee-io/towhee/main/assets/dog3.png']:\n",
    "    p(f_name)\n",
    "\n",
    "# Delete the pipeline object, make sure the faiss data is written to disk. \n",
    "del p\n",
    "\n",
    "\n",
    "# search image by text\n",
    "decode = ops.image_decode.cv2('rgb')\n",
    "p = (\n",
    "    pipe.input('text')\n",
    "    .map('text', 'vec', ops.image_text_embedding.clip(model_name='clip_vit_base_patch32', modality='text'))\n",
    "    .map('vec', 'vec', ops.towhee.np_normalize())\n",
    "    # faiss op result format:  [[id, score, [file_name], ...]\n",
    "    .map('vec', 'row', ops.ann_search.faiss_index('./faiss', 3))\n",
    "    .map('row', 'images', lambda x: [decode(item[2][0]) for item in x])\n",
    "    .output('text', 'images')\n",
    ")\n",
    "\n",
    "DataCollection(p('a cat')).show()"
   ],
   "metadata": {
    "collapsed": false,
    "ExecuteTime": {
     "start_time": "2023-08-17T22:07:05.774771Z"
    },
    "pycharm": {
     "is_executing": true
    }
   }
  },
  {
   "cell_type": "code",
   "execution_count": null,
   "outputs": [],
   "source": [
    "import towhee\n",
    "from towhee import pipeline"
   ],
   "metadata": {
    "collapsed": false,
    "pycharm": {
     "is_executing": true
    }
   }
  },
  {
   "cell_type": "code",
   "execution_count": null,
   "outputs": [],
   "source": [
    "p = pipeline('image-embedding')\n",
    "\n",
    "# TODO NameError: name 'screen' is not defined\n",
    "\n",
    "screen1_vec = screen\n",
    "screen2_vec = p(screen2)\n",
    "screen3_vec = p(screen3)\n",
    "screen4_vec = p(screen4)\n",
    "screen5_vec = p(screen5)"
   ],
   "metadata": {
    "collapsed": false,
    "pycharm": {
     "is_executing": true
    }
   }
  },
  {
   "cell_type": "code",
   "execution_count": null,
   "outputs": [],
   "source": [
    "# create image embeddings and build index\n",
    "(\n",
    "    towhee.glob['file_name']('./*.png')\n",
    "          .image_decode['file_name', 'img']()\n",
    "          .image_text_embedding.clip['img', 'vec'](model_name='clip_vit_b32', modality='image')\n",
    "          .tensor_normalize['vec','vec']()\n",
    "          .to_faiss[('file_name', 'vec')](findex='./index.bin')\n",
    ")\n",
    "\n",
    "# search image by text\n",
    "results = (\n",
    "    towhee.dc['text'](['screen'])\n",
    "          .image_text_embedding.clip['text', 'vec'](model_name='clip_vit_b32', modality='text')\n",
    "          .tensor_normalize['vec', 'vec']()\n",
    "          .faiss_search['vec', 'results'](findex='./index.bin', k=3)\n",
    "          .select['text', 'results']()\n",
    ")"
   ],
   "metadata": {
    "collapsed": false,
    "pycharm": {
     "is_executing": true
    }
   }
  },
  {
   "cell_type": "code",
   "execution_count": null,
   "outputs": [],
   "source": [
    "screen1_vec = p(screen1)\n",
    "screen2_vec = p(screen2)\n",
    "screen3_vec = p(screen3)\n",
    "screen4_vec = p(screen4)\n",
    "screen5_vec = p(screen5)\n"
   ],
   "metadata": {
    "collapsed": false,
    "pycharm": {
     "is_executing": true
    }
   }
  }
 ],
 "metadata": {
  "kernelspec": {
   "display_name": "Python 3",
   "language": "python",
   "name": "python3"
  },
  "language_info": {
   "codemirror_mode": {
    "name": "ipython",
    "version": 2
   },
   "file_extension": ".py",
   "mimetype": "text/x-python",
   "name": "python",
   "nbconvert_exporter": "python",
   "pygments_lexer": "ipython2",
   "version": "2.7.6"
  }
 },
 "nbformat": 4,
 "nbformat_minor": 0
}
